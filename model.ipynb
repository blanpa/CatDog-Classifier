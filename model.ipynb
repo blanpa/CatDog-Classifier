{
  "nbformat": 4,
  "nbformat_minor": 0,
  "metadata": {
    "colab": {
      "name": "model.ipynb",
      "provenance": [],
      "collapsed_sections": [],
      "toc_visible": true,
      "machine_shape": "hm",
      "mount_file_id": "https://github.com/pa-blan/CatDog-Classifier/blob/main/model.ipynb",
      "authorship_tag": "ABX9TyNd9gFh+0RXlle5tIogb3M3",
      "include_colab_link": true
    },
    "kernelspec": {
      "name": "python3",
      "display_name": "Python 3"
    },
    "accelerator": "GPU",
    "widgets": {
      "application/vnd.jupyter.widget-state+json": {
        "253ec1fb15bd43e9be4116d728ca1356": {
          "model_module": "@jupyter-widgets/controls",
          "model_name": "HBoxModel",
          "state": {
            "_view_name": "HBoxView",
            "_dom_classes": [],
            "_model_name": "HBoxModel",
            "_view_module": "@jupyter-widgets/controls",
            "_model_module_version": "1.5.0",
            "_view_count": null,
            "_view_module_version": "1.5.0",
            "box_style": "",
            "layout": "IPY_MODEL_6bd75d6e0d4a43b487d352794476c248",
            "_model_module": "@jupyter-widgets/controls",
            "children": [
              "IPY_MODEL_b1786eefcfb74d1492ab2db59d4f0fdc",
              "IPY_MODEL_eb68f4fa0f774247803d14ef89eace81"
            ]
          }
        },
        "6bd75d6e0d4a43b487d352794476c248": {
          "model_module": "@jupyter-widgets/base",
          "model_name": "LayoutModel",
          "state": {
            "_view_name": "LayoutView",
            "grid_template_rows": null,
            "right": null,
            "justify_content": null,
            "_view_module": "@jupyter-widgets/base",
            "overflow": null,
            "_model_module_version": "1.2.0",
            "_view_count": null,
            "flex_flow": null,
            "width": null,
            "min_width": null,
            "border": null,
            "align_items": null,
            "bottom": null,
            "_model_module": "@jupyter-widgets/base",
            "top": null,
            "grid_column": null,
            "overflow_y": null,
            "overflow_x": null,
            "grid_auto_flow": null,
            "grid_area": null,
            "grid_template_columns": null,
            "flex": null,
            "_model_name": "LayoutModel",
            "justify_items": null,
            "grid_row": null,
            "max_height": null,
            "align_content": null,
            "visibility": null,
            "align_self": null,
            "height": null,
            "min_height": null,
            "padding": null,
            "grid_auto_rows": null,
            "grid_gap": null,
            "max_width": null,
            "order": null,
            "_view_module_version": "1.2.0",
            "grid_template_areas": null,
            "object_position": null,
            "object_fit": null,
            "grid_auto_columns": null,
            "margin": null,
            "display": null,
            "left": null
          }
        },
        "b1786eefcfb74d1492ab2db59d4f0fdc": {
          "model_module": "@jupyter-widgets/controls",
          "model_name": "FloatProgressModel",
          "state": {
            "_view_name": "ProgressView",
            "style": "IPY_MODEL_b0d9f0d61ec24d6882d1044bf0549686",
            "_dom_classes": [],
            "description": "100%",
            "_model_name": "FloatProgressModel",
            "bar_style": "success",
            "max": 12500,
            "_view_module": "@jupyter-widgets/controls",
            "_model_module_version": "1.5.0",
            "value": 12500,
            "_view_count": null,
            "_view_module_version": "1.5.0",
            "orientation": "horizontal",
            "min": 0,
            "description_tooltip": null,
            "_model_module": "@jupyter-widgets/controls",
            "layout": "IPY_MODEL_c2e83adadac2434da21c1491dfe4e02e"
          }
        },
        "eb68f4fa0f774247803d14ef89eace81": {
          "model_module": "@jupyter-widgets/controls",
          "model_name": "HTMLModel",
          "state": {
            "_view_name": "HTMLView",
            "style": "IPY_MODEL_4bc4b6257dab4124a2037e66d872a787",
            "_dom_classes": [],
            "description": "",
            "_model_name": "HTMLModel",
            "placeholder": "​",
            "_view_module": "@jupyter-widgets/controls",
            "_model_module_version": "1.5.0",
            "value": " 12500/12500 [02:10&lt;00:00, 95.53it/s]",
            "_view_count": null,
            "_view_module_version": "1.5.0",
            "description_tooltip": null,
            "_model_module": "@jupyter-widgets/controls",
            "layout": "IPY_MODEL_9a8aa694b2634df4b5654a6aa95cacc0"
          }
        },
        "b0d9f0d61ec24d6882d1044bf0549686": {
          "model_module": "@jupyter-widgets/controls",
          "model_name": "ProgressStyleModel",
          "state": {
            "_view_name": "StyleView",
            "_model_name": "ProgressStyleModel",
            "description_width": "initial",
            "_view_module": "@jupyter-widgets/base",
            "_model_module_version": "1.5.0",
            "_view_count": null,
            "_view_module_version": "1.2.0",
            "bar_color": null,
            "_model_module": "@jupyter-widgets/controls"
          }
        },
        "c2e83adadac2434da21c1491dfe4e02e": {
          "model_module": "@jupyter-widgets/base",
          "model_name": "LayoutModel",
          "state": {
            "_view_name": "LayoutView",
            "grid_template_rows": null,
            "right": null,
            "justify_content": null,
            "_view_module": "@jupyter-widgets/base",
            "overflow": null,
            "_model_module_version": "1.2.0",
            "_view_count": null,
            "flex_flow": null,
            "width": null,
            "min_width": null,
            "border": null,
            "align_items": null,
            "bottom": null,
            "_model_module": "@jupyter-widgets/base",
            "top": null,
            "grid_column": null,
            "overflow_y": null,
            "overflow_x": null,
            "grid_auto_flow": null,
            "grid_area": null,
            "grid_template_columns": null,
            "flex": null,
            "_model_name": "LayoutModel",
            "justify_items": null,
            "grid_row": null,
            "max_height": null,
            "align_content": null,
            "visibility": null,
            "align_self": null,
            "height": null,
            "min_height": null,
            "padding": null,
            "grid_auto_rows": null,
            "grid_gap": null,
            "max_width": null,
            "order": null,
            "_view_module_version": "1.2.0",
            "grid_template_areas": null,
            "object_position": null,
            "object_fit": null,
            "grid_auto_columns": null,
            "margin": null,
            "display": null,
            "left": null
          }
        },
        "4bc4b6257dab4124a2037e66d872a787": {
          "model_module": "@jupyter-widgets/controls",
          "model_name": "DescriptionStyleModel",
          "state": {
            "_view_name": "StyleView",
            "_model_name": "DescriptionStyleModel",
            "description_width": "",
            "_view_module": "@jupyter-widgets/base",
            "_model_module_version": "1.5.0",
            "_view_count": null,
            "_view_module_version": "1.2.0",
            "_model_module": "@jupyter-widgets/controls"
          }
        },
        "9a8aa694b2634df4b5654a6aa95cacc0": {
          "model_module": "@jupyter-widgets/base",
          "model_name": "LayoutModel",
          "state": {
            "_view_name": "LayoutView",
            "grid_template_rows": null,
            "right": null,
            "justify_content": null,
            "_view_module": "@jupyter-widgets/base",
            "overflow": null,
            "_model_module_version": "1.2.0",
            "_view_count": null,
            "flex_flow": null,
            "width": null,
            "min_width": null,
            "border": null,
            "align_items": null,
            "bottom": null,
            "_model_module": "@jupyter-widgets/base",
            "top": null,
            "grid_column": null,
            "overflow_y": null,
            "overflow_x": null,
            "grid_auto_flow": null,
            "grid_area": null,
            "grid_template_columns": null,
            "flex": null,
            "_model_name": "LayoutModel",
            "justify_items": null,
            "grid_row": null,
            "max_height": null,
            "align_content": null,
            "visibility": null,
            "align_self": null,
            "height": null,
            "min_height": null,
            "padding": null,
            "grid_auto_rows": null,
            "grid_gap": null,
            "max_width": null,
            "order": null,
            "_view_module_version": "1.2.0",
            "grid_template_areas": null,
            "object_position": null,
            "object_fit": null,
            "grid_auto_columns": null,
            "margin": null,
            "display": null,
            "left": null
          }
        },
        "bdd3d45b3053415783506d30dbc67adf": {
          "model_module": "@jupyter-widgets/controls",
          "model_name": "HBoxModel",
          "state": {
            "_view_name": "HBoxView",
            "_dom_classes": [],
            "_model_name": "HBoxModel",
            "_view_module": "@jupyter-widgets/controls",
            "_model_module_version": "1.5.0",
            "_view_count": null,
            "_view_module_version": "1.5.0",
            "box_style": "",
            "layout": "IPY_MODEL_1314f469e4cc4b2193e4f9a3112aadff",
            "_model_module": "@jupyter-widgets/controls",
            "children": [
              "IPY_MODEL_88330485860a4567b20fa8331bba8c4f",
              "IPY_MODEL_0a58864d5b6b4864adb9eb1a7891d72a"
            ]
          }
        },
        "1314f469e4cc4b2193e4f9a3112aadff": {
          "model_module": "@jupyter-widgets/base",
          "model_name": "LayoutModel",
          "state": {
            "_view_name": "LayoutView",
            "grid_template_rows": null,
            "right": null,
            "justify_content": null,
            "_view_module": "@jupyter-widgets/base",
            "overflow": null,
            "_model_module_version": "1.2.0",
            "_view_count": null,
            "flex_flow": null,
            "width": null,
            "min_width": null,
            "border": null,
            "align_items": null,
            "bottom": null,
            "_model_module": "@jupyter-widgets/base",
            "top": null,
            "grid_column": null,
            "overflow_y": null,
            "overflow_x": null,
            "grid_auto_flow": null,
            "grid_area": null,
            "grid_template_columns": null,
            "flex": null,
            "_model_name": "LayoutModel",
            "justify_items": null,
            "grid_row": null,
            "max_height": null,
            "align_content": null,
            "visibility": null,
            "align_self": null,
            "height": null,
            "min_height": null,
            "padding": null,
            "grid_auto_rows": null,
            "grid_gap": null,
            "max_width": null,
            "order": null,
            "_view_module_version": "1.2.0",
            "grid_template_areas": null,
            "object_position": null,
            "object_fit": null,
            "grid_auto_columns": null,
            "margin": null,
            "display": null,
            "left": null
          }
        },
        "88330485860a4567b20fa8331bba8c4f": {
          "model_module": "@jupyter-widgets/controls",
          "model_name": "FloatProgressModel",
          "state": {
            "_view_name": "ProgressView",
            "style": "IPY_MODEL_b295dfe8be0747799d823b3a7a62e2ad",
            "_dom_classes": [],
            "description": "100%",
            "_model_name": "FloatProgressModel",
            "bar_style": "success",
            "max": 12500,
            "_view_module": "@jupyter-widgets/controls",
            "_model_module_version": "1.5.0",
            "value": 12500,
            "_view_count": null,
            "_view_module_version": "1.5.0",
            "orientation": "horizontal",
            "min": 0,
            "description_tooltip": null,
            "_model_module": "@jupyter-widgets/controls",
            "layout": "IPY_MODEL_9dafa2d47d114c6cbe24ae5c92bb2c85"
          }
        },
        "0a58864d5b6b4864adb9eb1a7891d72a": {
          "model_module": "@jupyter-widgets/controls",
          "model_name": "HTMLModel",
          "state": {
            "_view_name": "HTMLView",
            "style": "IPY_MODEL_323181431cef4774a523c0fda7631c1c",
            "_dom_classes": [],
            "description": "",
            "_model_name": "HTMLModel",
            "placeholder": "​",
            "_view_module": "@jupyter-widgets/controls",
            "_model_module_version": "1.5.0",
            "value": " 12500/12500 [01:18&lt;00:00, 159.14it/s]",
            "_view_count": null,
            "_view_module_version": "1.5.0",
            "description_tooltip": null,
            "_model_module": "@jupyter-widgets/controls",
            "layout": "IPY_MODEL_5665e19d430046598e471ccdfb92137e"
          }
        },
        "b295dfe8be0747799d823b3a7a62e2ad": {
          "model_module": "@jupyter-widgets/controls",
          "model_name": "ProgressStyleModel",
          "state": {
            "_view_name": "StyleView",
            "_model_name": "ProgressStyleModel",
            "description_width": "initial",
            "_view_module": "@jupyter-widgets/base",
            "_model_module_version": "1.5.0",
            "_view_count": null,
            "_view_module_version": "1.2.0",
            "bar_color": null,
            "_model_module": "@jupyter-widgets/controls"
          }
        },
        "9dafa2d47d114c6cbe24ae5c92bb2c85": {
          "model_module": "@jupyter-widgets/base",
          "model_name": "LayoutModel",
          "state": {
            "_view_name": "LayoutView",
            "grid_template_rows": null,
            "right": null,
            "justify_content": null,
            "_view_module": "@jupyter-widgets/base",
            "overflow": null,
            "_model_module_version": "1.2.0",
            "_view_count": null,
            "flex_flow": null,
            "width": null,
            "min_width": null,
            "border": null,
            "align_items": null,
            "bottom": null,
            "_model_module": "@jupyter-widgets/base",
            "top": null,
            "grid_column": null,
            "overflow_y": null,
            "overflow_x": null,
            "grid_auto_flow": null,
            "grid_area": null,
            "grid_template_columns": null,
            "flex": null,
            "_model_name": "LayoutModel",
            "justify_items": null,
            "grid_row": null,
            "max_height": null,
            "align_content": null,
            "visibility": null,
            "align_self": null,
            "height": null,
            "min_height": null,
            "padding": null,
            "grid_auto_rows": null,
            "grid_gap": null,
            "max_width": null,
            "order": null,
            "_view_module_version": "1.2.0",
            "grid_template_areas": null,
            "object_position": null,
            "object_fit": null,
            "grid_auto_columns": null,
            "margin": null,
            "display": null,
            "left": null
          }
        },
        "323181431cef4774a523c0fda7631c1c": {
          "model_module": "@jupyter-widgets/controls",
          "model_name": "DescriptionStyleModel",
          "state": {
            "_view_name": "StyleView",
            "_model_name": "DescriptionStyleModel",
            "description_width": "",
            "_view_module": "@jupyter-widgets/base",
            "_model_module_version": "1.5.0",
            "_view_count": null,
            "_view_module_version": "1.2.0",
            "_model_module": "@jupyter-widgets/controls"
          }
        },
        "5665e19d430046598e471ccdfb92137e": {
          "model_module": "@jupyter-widgets/base",
          "model_name": "LayoutModel",
          "state": {
            "_view_name": "LayoutView",
            "grid_template_rows": null,
            "right": null,
            "justify_content": null,
            "_view_module": "@jupyter-widgets/base",
            "overflow": null,
            "_model_module_version": "1.2.0",
            "_view_count": null,
            "flex_flow": null,
            "width": null,
            "min_width": null,
            "border": null,
            "align_items": null,
            "bottom": null,
            "_model_module": "@jupyter-widgets/base",
            "top": null,
            "grid_column": null,
            "overflow_y": null,
            "overflow_x": null,
            "grid_auto_flow": null,
            "grid_area": null,
            "grid_template_columns": null,
            "flex": null,
            "_model_name": "LayoutModel",
            "justify_items": null,
            "grid_row": null,
            "max_height": null,
            "align_content": null,
            "visibility": null,
            "align_self": null,
            "height": null,
            "min_height": null,
            "padding": null,
            "grid_auto_rows": null,
            "grid_gap": null,
            "max_width": null,
            "order": null,
            "_view_module_version": "1.2.0",
            "grid_template_areas": null,
            "object_position": null,
            "object_fit": null,
            "grid_auto_columns": null,
            "margin": null,
            "display": null,
            "left": null
          }
        }
      }
    }
  },
  "cells": [
    {
      "cell_type": "markdown",
      "metadata": {
        "id": "view-in-github",
        "colab_type": "text"
      },
      "source": [
        "<a href=\"https://colab.research.google.com/github/pa-blan/CatDog-Classifier/blob/main/model.ipynb\" target=\"_parent\"><img src=\"https://colab.research.google.com/assets/colab-badge.svg\" alt=\"Open In Colab\"/></a>"
      ]
    },
    {
      "cell_type": "markdown",
      "metadata": {
        "id": "AniW9yeyd_wE"
      },
      "source": [
        "# Wandb"
      ]
    },
    {
      "cell_type": "code",
      "metadata": {
        "id": "LW7Yfx5MeBCm"
      },
      "source": [
        "!pip install --upgrade wandb"
      ],
      "execution_count": null,
      "outputs": []
    },
    {
      "cell_type": "code",
      "metadata": {
        "id": "baBMjf5ueDNb"
      },
      "source": [
        "!wandb login 467a1c862718fd18ec6dab4f7c13a0d570a610b8"
      ],
      "execution_count": null,
      "outputs": []
    },
    {
      "cell_type": "code",
      "metadata": {
        "id": "KXRvN9y2ecKq"
      },
      "source": [
        "import wandb\n",
        "from wandb.keras import WandbCallback\n",
        "wandb.init(project=\"VGG16\")"
      ],
      "execution_count": null,
      "outputs": []
    },
    {
      "cell_type": "markdown",
      "metadata": {
        "id": "U-u2Hd8Vee0b"
      },
      "source": [
        "# Vorbereitung"
      ]
    },
    {
      "cell_type": "code",
      "metadata": {
        "id": "WQLskVB7iSfe",
        "colab": {
          "base_uri": "https://localhost:8080/"
        },
        "outputId": "5d92bc7e-67ed-4b93-f69f-bf0d18c06250"
      },
      "source": [
        "import tensorflow as tf\n",
        "print(tf.test.gpu_device_name())"
      ],
      "execution_count": 1,
      "outputs": [
        {
          "output_type": "stream",
          "text": [
            "/device:GPU:0\n"
          ],
          "name": "stdout"
        }
      ]
    },
    {
      "cell_type": "code",
      "metadata": {
        "id": "_5_FYC4nipQB",
        "colab": {
          "base_uri": "https://localhost:8080/"
        },
        "outputId": "ff34cdf2-570d-4852-ab09-5cd5adb498d4"
      },
      "source": [
        "!nvidia-smi"
      ],
      "execution_count": 2,
      "outputs": [
        {
          "output_type": "stream",
          "text": [
            "Tue Apr  6 19:44:52 2021       \n",
            "+-----------------------------------------------------------------------------+\n",
            "| NVIDIA-SMI 460.67       Driver Version: 460.32.03    CUDA Version: 11.2     |\n",
            "|-------------------------------+----------------------+----------------------+\n",
            "| GPU  Name        Persistence-M| Bus-Id        Disp.A | Volatile Uncorr. ECC |\n",
            "| Fan  Temp  Perf  Pwr:Usage/Cap|         Memory-Usage | GPU-Util  Compute M. |\n",
            "|                               |                      |               MIG M. |\n",
            "|===============================+======================+======================|\n",
            "|   0  Tesla V100-SXM2...  Off  | 00000000:00:04.0 Off |                    0 |\n",
            "| N/A   42C    P0    39W / 300W |    429MiB / 16160MiB |      1%      Default |\n",
            "|                               |                      |                  N/A |\n",
            "+-------------------------------+----------------------+----------------------+\n",
            "                                                                               \n",
            "+-----------------------------------------------------------------------------+\n",
            "| Processes:                                                                  |\n",
            "|  GPU   GI   CI        PID   Type   Process name                  GPU Memory |\n",
            "|        ID   ID                                                   Usage      |\n",
            "|=============================================================================|\n",
            "+-----------------------------------------------------------------------------+\n"
          ],
          "name": "stdout"
        }
      ]
    },
    {
      "cell_type": "code",
      "metadata": {
        "id": "goU1deagjDTs",
        "outputId": "4eaf0b5b-da7c-4c7b-ff66-87154d4503f4",
        "colab": {
          "base_uri": "https://localhost:8080/"
        }
      },
      "source": [
        "!pip install keras"
      ],
      "execution_count": 4,
      "outputs": [
        {
          "output_type": "stream",
          "text": [
            "Requirement already satisfied: keras in /usr/local/lib/python3.7/dist-packages (2.4.3)\n",
            "Requirement already satisfied: scipy>=0.14 in /usr/local/lib/python3.7/dist-packages (from keras) (1.4.1)\n",
            "Requirement already satisfied: h5py in /usr/local/lib/python3.7/dist-packages (from keras) (2.10.0)\n",
            "Requirement already satisfied: pyyaml in /usr/local/lib/python3.7/dist-packages (from keras) (3.13)\n",
            "Requirement already satisfied: numpy>=1.9.1 in /usr/local/lib/python3.7/dist-packages (from keras) (1.19.5)\n",
            "Requirement already satisfied: six in /usr/local/lib/python3.7/dist-packages (from h5py->keras) (1.15.0)\n"
          ],
          "name": "stdout"
        }
      ]
    },
    {
      "cell_type": "markdown",
      "metadata": {
        "id": "HoneGYavemHN"
      },
      "source": [
        "# Mount Drive Files (Mount Drive nicht vergessen!)"
      ]
    },
    {
      "cell_type": "code",
      "metadata": {
        "id": "doXa5FDMepnv",
        "colab": {
          "base_uri": "https://localhost:8080/"
        },
        "outputId": "a993b7c0-0ef8-4d50-92bb-a5410de63df5"
      },
      "source": [
        "!ls \"/content/drive/My Drive/Colab Notebooks/Udemy Deep Learning/data/PetImages\""
      ],
      "execution_count": 3,
      "outputs": [
        {
          "output_type": "stream",
          "text": [
            "cat.jpg  mrschnurr.jpg\tPetImages.zip\n"
          ],
          "name": "stdout"
        }
      ]
    },
    {
      "cell_type": "code",
      "metadata": {
        "id": "KjN2dtFCesDc"
      },
      "source": [
        "!unzip -uq \"/content/drive/My Drive/Colab Notebooks/Udemy Deep Learning/data/PetImages/PetImages.zip\" -d \"content/\""
      ],
      "execution_count": 4,
      "outputs": []
    },
    {
      "cell_type": "code",
      "metadata": {
        "id": "0Dkm1v4pewBh",
        "colab": {
          "base_uri": "https://localhost:8080/"
        },
        "outputId": "f41b4bfe-e88f-4a49-a920-cc4e7152c1f8"
      },
      "source": [
        "!ls content/PetImages/"
      ],
      "execution_count": 5,
      "outputs": [
        {
          "output_type": "stream",
          "text": [
            "Cat  Dog\n"
          ],
          "name": "stdout"
        }
      ]
    },
    {
      "cell_type": "markdown",
      "metadata": {
        "id": "R0K7DRqvU8h3"
      },
      "source": [
        "Einlesen der Daten"
      ]
    },
    {
      "cell_type": "code",
      "metadata": {
        "id": "0Rv9QOqkU7qi",
        "colab": {
          "base_uri": "https://localhost:8080/",
          "height": 441,
          "referenced_widgets": [
            "253ec1fb15bd43e9be4116d728ca1356",
            "6bd75d6e0d4a43b487d352794476c248",
            "b1786eefcfb74d1492ab2db59d4f0fdc",
            "eb68f4fa0f774247803d14ef89eace81",
            "b0d9f0d61ec24d6882d1044bf0549686",
            "c2e83adadac2434da21c1491dfe4e02e",
            "4bc4b6257dab4124a2037e66d872a787",
            "9a8aa694b2634df4b5654a6aa95cacc0",
            "bdd3d45b3053415783506d30dbc67adf",
            "1314f469e4cc4b2193e4f9a3112aadff",
            "88330485860a4567b20fa8331bba8c4f",
            "0a58864d5b6b4864adb9eb1a7891d72a",
            "b295dfe8be0747799d823b3a7a62e2ad",
            "9dafa2d47d114c6cbe24ae5c92bb2c85",
            "323181431cef4774a523c0fda7631c1c",
            "5665e19d430046598e471ccdfb92137e"
          ]
        },
        "outputId": "9fe77135-7043-4601-834e-e2bead08c6f9"
      },
      "source": [
        "# Einlesen der Daten\n",
        "\n",
        "import os\n",
        "import numpy as np\n",
        "from tqdm import tqdm_notebook as tqdm\n",
        "from PIL import Image\n",
        "\n",
        "def read_images(path):\n",
        "    files = os.listdir(path)\n",
        "    #Hier wird geprüft ob die Bilder das Format jpg haben\n",
        "    files = [file for file in files if file[-4:] == \".jpg\"]\n",
        "    \n",
        "    #Da ich hier aufgrund nur 25 GB Arbeitsspeicher nicht alle Netze trainieren lassen kann muss weniger Bilder einlesen, kann aber auch so funktionieren\n",
        "    #files = files[:2000]\n",
        "    \n",
        "    images = []\n",
        "    for file in tqdm(files):\n",
        "        try:\n",
        "            image = Image.open(os.path.join(path, file))\n",
        "\n",
        "            # https://pillow.readthedocs.io/en/3.1.x/reference/Image.html#PIL.Image.Image.resize\n",
        "            image = image.resize((224, 224), Image.LANCZOS)\n",
        "\n",
        "            # https://pillow.readthedocs.io/en/3.1.x/reference/Image.html#PIL.Image.Image.convert\n",
        "            image = image.convert(\"RGB\")\n",
        "\n",
        "            image = np.asarray(image)\n",
        "\n",
        "            images.append(image)\n",
        "\n",
        "        except OSError:\n",
        "            pass\n",
        "    \n",
        "    return images\n",
        "  \n",
        "#Hier werd die Funktion verwendet\n",
        "cats = read_images(os.path.join(\"content\", \"PetImages\", \"Cat\"))\n",
        "dogs = read_images(os.path.join(\"content\", \"PetImages\", \"Dog\"))\n",
        "  \n",
        "dogs = np.asarray(dogs)\n",
        "cats = np.asarray(cats)\n",
        "\n",
        "#XDaten hintereinanderhängen und Daten vorbereiten Kommazahlen und Helligkeit von 0 bis 1 Unterstüzt das Netz zum trainieren\n",
        "#X = np.concatenate([dogs, cats]).astype(np.float32) / 255.\n",
        "X = np.concatenate([dogs, cats])\n",
        "\n",
        "# Daten werden in 0 und 1 \n",
        "y_dogs = np.zeros(len(dogs))\n",
        "y_cats = np.ones(len(cats))\n",
        "\n",
        "# y Daten hintereinander anhängen\n",
        "y = np.concatenate([y_dogs, y_cats])\n",
        "\n",
        "del dogs, cats, y_dogs, y_cats"
      ],
      "execution_count": 6,
      "outputs": [
        {
          "output_type": "stream",
          "text": [
            "/usr/local/lib/python3.7/dist-packages/ipykernel_launcher.py:17: TqdmDeprecationWarning: This function will be removed in tqdm==5.0.0\n",
            "Please use `tqdm.notebook.tqdm` instead of `tqdm.tqdm_notebook`\n"
          ],
          "name": "stderr"
        },
        {
          "output_type": "display_data",
          "data": {
            "application/vnd.jupyter.widget-view+json": {
              "model_id": "253ec1fb15bd43e9be4116d728ca1356",
              "version_minor": 0,
              "version_major": 2
            },
            "text/plain": [
              "HBox(children=(FloatProgress(value=0.0, max=12500.0), HTML(value='')))"
            ]
          },
          "metadata": {
            "tags": []
          }
        },
        {
          "output_type": "stream",
          "text": [
            "\n"
          ],
          "name": "stdout"
        },
        {
          "output_type": "display_data",
          "data": {
            "application/vnd.jupyter.widget-view+json": {
              "model_id": "bdd3d45b3053415783506d30dbc67adf",
              "version_minor": 0,
              "version_major": 2
            },
            "text/plain": [
              "HBox(children=(FloatProgress(value=0.0, max=12500.0), HTML(value='')))"
            ]
          },
          "metadata": {
            "tags": []
          }
        },
        {
          "output_type": "stream",
          "text": [
            "/usr/local/lib/python3.7/dist-packages/PIL/TiffImagePlugin.py:770: UserWarning: Possibly corrupt EXIF data.  Expecting to read 32 bytes but only got 0. Skipping tag 270\n",
            "  \" Skipping tag %s\" % (size, len(data), tag)\n",
            "/usr/local/lib/python3.7/dist-packages/PIL/TiffImagePlugin.py:770: UserWarning: Possibly corrupt EXIF data.  Expecting to read 5 bytes but only got 0. Skipping tag 271\n",
            "  \" Skipping tag %s\" % (size, len(data), tag)\n",
            "/usr/local/lib/python3.7/dist-packages/PIL/TiffImagePlugin.py:770: UserWarning: Possibly corrupt EXIF data.  Expecting to read 8 bytes but only got 0. Skipping tag 272\n",
            "  \" Skipping tag %s\" % (size, len(data), tag)\n",
            "/usr/local/lib/python3.7/dist-packages/PIL/TiffImagePlugin.py:770: UserWarning: Possibly corrupt EXIF data.  Expecting to read 8 bytes but only got 0. Skipping tag 282\n",
            "  \" Skipping tag %s\" % (size, len(data), tag)\n",
            "/usr/local/lib/python3.7/dist-packages/PIL/TiffImagePlugin.py:770: UserWarning: Possibly corrupt EXIF data.  Expecting to read 8 bytes but only got 0. Skipping tag 283\n",
            "  \" Skipping tag %s\" % (size, len(data), tag)\n",
            "/usr/local/lib/python3.7/dist-packages/PIL/TiffImagePlugin.py:770: UserWarning: Possibly corrupt EXIF data.  Expecting to read 20 bytes but only got 0. Skipping tag 306\n",
            "  \" Skipping tag %s\" % (size, len(data), tag)\n",
            "/usr/local/lib/python3.7/dist-packages/PIL/TiffImagePlugin.py:770: UserWarning: Possibly corrupt EXIF data.  Expecting to read 48 bytes but only got 0. Skipping tag 532\n",
            "  \" Skipping tag %s\" % (size, len(data), tag)\n",
            "/usr/local/lib/python3.7/dist-packages/PIL/TiffImagePlugin.py:788: UserWarning: Corrupt EXIF data.  Expecting to read 2 bytes but only got 0. \n",
            "  warnings.warn(str(msg))\n"
          ],
          "name": "stderr"
        },
        {
          "output_type": "stream",
          "text": [
            "\n"
          ],
          "name": "stdout"
        }
      ]
    },
    {
      "cell_type": "markdown",
      "metadata": {
        "id": "Bjq0zaDGe1d2"
      },
      "source": [
        "Transfer Learning mit VGG 16\n"
      ]
    },
    {
      "cell_type": "code",
      "metadata": {
        "id": "8i6pIiAQfE_3",
        "outputId": "4c0f1451-48e0-4556-e9db-afc85decfa52",
        "colab": {
          "base_uri": "https://localhost:8080/"
        }
      },
      "source": [
        "from tensorflow.keras.applications.mobilenet_v2 import MobileNetV2\n",
        "\n",
        "mobilenet_v2_model = MobileNetV2(include_top=False, input_shape=(224, 224, 3))\n",
        "mobilenet_v2_model.trainable = False"
      ],
      "execution_count": 7,
      "outputs": [
        {
          "output_type": "stream",
          "text": [
            "Downloading data from https://storage.googleapis.com/tensorflow/keras-applications/mobilenet_v2/mobilenet_v2_weights_tf_dim_ordering_tf_kernels_1.0_224_no_top.h5\n",
            "9412608/9406464 [==============================] - 0s 0us/step\n"
          ],
          "name": "stdout"
        }
      ]
    },
    {
      "cell_type": "code",
      "metadata": {
        "id": "ASnPhPBYR-dB",
        "colab": {
          "base_uri": "https://localhost:8080/"
        },
        "outputId": "6f18ec2a-7c5b-4c76-9c1c-db25803798b0"
      },
      "source": [
        "from keras.models import Sequential\n",
        "from keras.layers import Dense, Flatten\n",
        "from keras.optimizers import Adam\n",
        "\n",
        "model = Sequential()\n",
        "model.add(mobilenet_v2_model)\n",
        "\n",
        "model.add(Flatten(input_shape=(7,7,512)))\n",
        "# model.add(Dense(1024, activation =\"relu\"))\n",
        "model.add(Dense(16, activation =\"relu\"))\n",
        "model.add(Dense(1, activation=\"sigmoid\"))\n",
        "\n",
        "model.compile(optimizer=Adam(lr= 0.00001), loss= \"binary_crossentropy\", metrics=[\"acc\"])\n",
        "model.summary()"
      ],
      "execution_count": 9,
      "outputs": [
        {
          "output_type": "stream",
          "text": [
            "Model: \"sequential_1\"\n",
            "_________________________________________________________________\n",
            "Layer (type)                 Output Shape              Param #   \n",
            "=================================================================\n",
            "mobilenetv2_1.00_224 (Functi (None, 7, 7, 1280)        2257984   \n",
            "_________________________________________________________________\n",
            "flatten (Flatten)            (None, 62720)             0         \n",
            "_________________________________________________________________\n",
            "dense (Dense)                (None, 16)                1003536   \n",
            "_________________________________________________________________\n",
            "dense_1 (Dense)              (None, 1)                 17        \n",
            "=================================================================\n",
            "Total params: 3,261,537\n",
            "Trainable params: 1,003,553\n",
            "Non-trainable params: 2,257,984\n",
            "_________________________________________________________________\n"
          ],
          "name": "stdout"
        }
      ]
    },
    {
      "cell_type": "code",
      "metadata": {
        "id": "hCfa40Nouqa8",
        "outputId": "5c834a88-a1d5-4d83-f7e4-c32493a39b6b",
        "colab": {
          "base_uri": "https://localhost:8080/"
        }
      },
      "source": [
        "from tensorflow.keras.preprocessing.image import ImageDataGenerator\n",
        "#import math\n",
        "\n",
        "gen = ImageDataGenerator(\n",
        "    width_shift_range=3, \n",
        "    height_shift_range=3, \n",
        "    zoom_range=0.1, \n",
        "    horizontal_flip=True, \n",
        "    vertical_flip=True) \n",
        "\n",
        "#Documentation empfiehlt keine batch_size bei generator\n",
        "training = model.fit(X,y, epochs=50, shuffle=True, validation_split = 0.3)"
      ],
      "execution_count": 12,
      "outputs": [
        {
          "output_type": "stream",
          "text": [
            "Epoch 1/50\n",
            "547/547 [==============================] - 32s 23ms/step - loss: 0.5609 - acc: 0.7175 - val_loss: 0.8397 - val_acc: 0.5243\n",
            "Epoch 2/50\n",
            "547/547 [==============================] - 12s 21ms/step - loss: 0.4151 - acc: 0.8101 - val_loss: 0.7612 - val_acc: 0.6049\n",
            "Epoch 3/50\n",
            "547/547 [==============================] - 12s 21ms/step - loss: 0.3695 - acc: 0.8359 - val_loss: 0.6986 - val_acc: 0.6411\n",
            "Epoch 4/50\n",
            "547/547 [==============================] - 12s 21ms/step - loss: 0.3284 - acc: 0.8615 - val_loss: 0.7349 - val_acc: 0.6196\n",
            "Epoch 5/50\n",
            "547/547 [==============================] - 12s 21ms/step - loss: 0.3009 - acc: 0.8813 - val_loss: 0.6576 - val_acc: 0.6655\n",
            "Epoch 6/50\n",
            "547/547 [==============================] - 12s 21ms/step - loss: 0.2868 - acc: 0.8839 - val_loss: 0.9672 - val_acc: 0.5245\n",
            "Epoch 7/50\n",
            "547/547 [==============================] - 12s 21ms/step - loss: 0.2598 - acc: 0.8983 - val_loss: 0.9089 - val_acc: 0.5595\n",
            "Epoch 8/50\n",
            "547/547 [==============================] - 12s 21ms/step - loss: 0.2426 - acc: 0.9067 - val_loss: 0.8718 - val_acc: 0.5761\n",
            "Epoch 9/50\n",
            "547/547 [==============================] - 12s 21ms/step - loss: 0.2233 - acc: 0.9168 - val_loss: 0.5061 - val_acc: 0.7555\n",
            "Epoch 10/50\n",
            "547/547 [==============================] - 12s 21ms/step - loss: 0.2110 - acc: 0.9255 - val_loss: 0.9941 - val_acc: 0.5424\n",
            "Epoch 11/50\n",
            "547/547 [==============================] - 12s 21ms/step - loss: 0.2013 - acc: 0.9339 - val_loss: 0.9705 - val_acc: 0.5543\n",
            "Epoch 12/50\n",
            "547/547 [==============================] - 12s 21ms/step - loss: 0.1856 - acc: 0.9401 - val_loss: 0.9627 - val_acc: 0.5631\n",
            "Epoch 13/50\n",
            "547/547 [==============================] - 12s 21ms/step - loss: 0.1735 - acc: 0.9487 - val_loss: 0.8924 - val_acc: 0.5953\n",
            "Epoch 14/50\n",
            "547/547 [==============================] - 12s 21ms/step - loss: 0.1575 - acc: 0.9553 - val_loss: 0.6818 - val_acc: 0.6869\n",
            "Epoch 15/50\n",
            "547/547 [==============================] - 12s 21ms/step - loss: 0.1475 - acc: 0.9614 - val_loss: 0.7486 - val_acc: 0.6613\n",
            "Epoch 16/50\n",
            "547/547 [==============================] - 12s 21ms/step - loss: 0.1364 - acc: 0.9659 - val_loss: 0.8639 - val_acc: 0.6232\n",
            "Epoch 17/50\n",
            "547/547 [==============================] - 12s 21ms/step - loss: 0.1298 - acc: 0.9688 - val_loss: 0.7703 - val_acc: 0.6639\n",
            "Epoch 18/50\n",
            "547/547 [==============================] - 12s 21ms/step - loss: 0.1225 - acc: 0.9738 - val_loss: 0.9065 - val_acc: 0.6115\n",
            "Epoch 19/50\n",
            "547/547 [==============================] - 12s 21ms/step - loss: 0.1120 - acc: 0.9780 - val_loss: 0.9803 - val_acc: 0.5937\n",
            "Epoch 20/50\n",
            "547/547 [==============================] - 12s 21ms/step - loss: 0.1065 - acc: 0.9805 - val_loss: 1.0104 - val_acc: 0.5804\n",
            "Epoch 21/50\n",
            "547/547 [==============================] - 12s 21ms/step - loss: 0.0967 - acc: 0.9812 - val_loss: 1.0014 - val_acc: 0.5917\n",
            "Epoch 22/50\n",
            "547/547 [==============================] - 12s 21ms/step - loss: 0.0885 - acc: 0.9868 - val_loss: 0.7624 - val_acc: 0.6803\n",
            "Epoch 23/50\n",
            "547/547 [==============================] - 12s 21ms/step - loss: 0.0858 - acc: 0.9869 - val_loss: 0.8623 - val_acc: 0.6480\n",
            "Epoch 24/50\n",
            "547/547 [==============================] - 12s 21ms/step - loss: 0.0750 - acc: 0.9900 - val_loss: 0.8389 - val_acc: 0.6585\n",
            "Epoch 25/50\n",
            "547/547 [==============================] - 12s 21ms/step - loss: 0.0715 - acc: 0.9920 - val_loss: 1.0007 - val_acc: 0.6091\n",
            "Epoch 26/50\n",
            "547/547 [==============================] - 12s 21ms/step - loss: 0.0662 - acc: 0.9938 - val_loss: 0.9271 - val_acc: 0.6395\n",
            "Epoch 27/50\n",
            "547/547 [==============================] - 12s 21ms/step - loss: 0.0606 - acc: 0.9959 - val_loss: 0.8160 - val_acc: 0.6788\n",
            "Epoch 28/50\n",
            "547/547 [==============================] - 12s 21ms/step - loss: 0.0563 - acc: 0.9964 - val_loss: 1.0752 - val_acc: 0.5988\n",
            "Epoch 29/50\n",
            "547/547 [==============================] - 12s 21ms/step - loss: 0.0521 - acc: 0.9964 - val_loss: 0.9943 - val_acc: 0.6339\n",
            "Epoch 30/50\n",
            "547/547 [==============================] - 12s 21ms/step - loss: 0.0478 - acc: 0.9980 - val_loss: 0.8826 - val_acc: 0.6739\n",
            "Epoch 31/50\n",
            "547/547 [==============================] - 12s 21ms/step - loss: 0.0445 - acc: 0.9977 - val_loss: 1.0145 - val_acc: 0.6341\n",
            "Epoch 32/50\n",
            "547/547 [==============================] - 12s 21ms/step - loss: 0.0388 - acc: 0.9992 - val_loss: 0.9521 - val_acc: 0.6559\n",
            "Epoch 33/50\n",
            "547/547 [==============================] - 12s 21ms/step - loss: 0.0374 - acc: 0.9990 - val_loss: 1.0594 - val_acc: 0.6308\n",
            "Epoch 34/50\n",
            "547/547 [==============================] - 12s 21ms/step - loss: 0.0336 - acc: 0.9995 - val_loss: 0.9488 - val_acc: 0.6621\n",
            "Epoch 35/50\n",
            "547/547 [==============================] - 12s 21ms/step - loss: 0.0310 - acc: 0.9996 - val_loss: 0.9934 - val_acc: 0.6619\n",
            "Epoch 36/50\n",
            "547/547 [==============================] - 12s 21ms/step - loss: 0.0280 - acc: 0.9998 - val_loss: 0.8153 - val_acc: 0.7091\n",
            "Epoch 37/50\n",
            "547/547 [==============================] - 12s 21ms/step - loss: 0.0272 - acc: 0.9997 - val_loss: 1.2058 - val_acc: 0.6097\n",
            "Epoch 38/50\n",
            "547/547 [==============================] - 12s 21ms/step - loss: 0.0258 - acc: 0.9995 - val_loss: 1.0637 - val_acc: 0.6492\n",
            "Epoch 39/50\n",
            "547/547 [==============================] - 12s 21ms/step - loss: 0.0223 - acc: 0.9998 - val_loss: 1.0528 - val_acc: 0.6593\n",
            "Epoch 40/50\n",
            "547/547 [==============================] - 12s 21ms/step - loss: 0.0209 - acc: 0.9998 - val_loss: 1.1765 - val_acc: 0.6300\n",
            "Epoch 41/50\n",
            "547/547 [==============================] - 12s 21ms/step - loss: 0.0187 - acc: 0.9998 - val_loss: 0.8740 - val_acc: 0.7124\n",
            "Epoch 42/50\n",
            "547/547 [==============================] - 12s 21ms/step - loss: 0.0178 - acc: 0.9999 - val_loss: 1.0092 - val_acc: 0.6829\n",
            "Epoch 43/50\n",
            "547/547 [==============================] - 12s 21ms/step - loss: 0.0154 - acc: 1.0000 - val_loss: 1.3565 - val_acc: 0.6036\n",
            "Epoch 44/50\n",
            "547/547 [==============================] - 12s 21ms/step - loss: 0.0141 - acc: 1.0000 - val_loss: 1.0450 - val_acc: 0.6789\n",
            "Epoch 45/50\n",
            "547/547 [==============================] - 12s 21ms/step - loss: 0.0132 - acc: 1.0000 - val_loss: 1.4312 - val_acc: 0.5901\n",
            "Epoch 46/50\n",
            "547/547 [==============================] - 12s 21ms/step - loss: 0.0119 - acc: 0.9999 - val_loss: 1.0064 - val_acc: 0.6955\n",
            "Epoch 47/50\n",
            "547/547 [==============================] - 12s 21ms/step - loss: 0.0107 - acc: 1.0000 - val_loss: 1.2772 - val_acc: 0.6372\n",
            "Epoch 48/50\n",
            "547/547 [==============================] - 12s 21ms/step - loss: 0.0099 - acc: 0.9999 - val_loss: 1.3526 - val_acc: 0.6229\n",
            "Epoch 49/50\n",
            "547/547 [==============================] - 12s 21ms/step - loss: 0.0089 - acc: 1.0000 - val_loss: 1.1590 - val_acc: 0.6701\n",
            "Epoch 50/50\n",
            "547/547 [==============================] - 12s 21ms/step - loss: 0.0083 - acc: 1.0000 - val_loss: 1.2285 - val_acc: 0.6581\n"
          ],
          "name": "stdout"
        }
      ]
    },
    {
      "cell_type": "code",
      "metadata": {
        "id": "5sW98y0gxlDZ",
        "outputId": "7fd533b8-1199-4f18-ac97-8d530df92723",
        "colab": {
          "base_uri": "https://localhost:8080/",
          "height": 363
        }
      },
      "source": [
        "import matplotlib.pyplot as plt\n",
        "\n",
        "plt.plot(training.history[\"acc\"])\n",
        "#plt.plot(result.history[\"X_test\"])\n",
        "plt.plot(training.history[\"loss\"])\n",
        "#plt.plot(training.history[\"val_loss\"])\n",
        "plt.title(\"model accuracy\")\n",
        "plt.ylabel(\"accuracy\")\n",
        "plt.xlabel(\"epoch\")\n",
        "plt.legend([\"train\", \"loss\"], loc=\"upper left\")\n",
        "plt.show()\n",
        "\n",
        "print(np.var(training.history[\"acc\"]))\n",
        "print(np.var(training.history[\"loss\"]))\n",
        "acc_max = max(training.history[\"acc\"])\n",
        "print(acc_max)\n",
        "training.history[\"acc\"].index(acc_max)"
      ],
      "execution_count": 13,
      "outputs": [
        {
          "output_type": "display_data",
          "data": {
            "image/png": "[encoded data removed]",
            "text/plain": [
              "<Figure size 432x288 with 1 Axes>"
            ]
          },
          "metadata": {
            "tags": [],
            "needs_background": "light"
          }
        },
        {
          "output_type": "stream",
          "text": [
            "0.003107601867338565\n",
            "0.01389623135222044\n",
            "0.9999428391456604\n"
          ],
          "name": "stdout"
        },
        {
          "output_type": "execute_result",
          "data": {
            "text/plain": [
              "44"
            ]
          },
          "metadata": {
            "tags": []
          },
          "execution_count": 13
        }
      ]
    },
    {
      "cell_type": "code",
      "metadata": {
        "id": "C8rrEwTyiPPa"
      },
      "source": [
        "model.save(\"TransferlearningVGG16.h5\")"
      ],
      "execution_count": 14,
      "outputs": []
    },
    {
      "cell_type": "code",
      "metadata": {
        "id": "tjuAsxSXigYv"
      },
      "source": [
        "!cp -u TransferlearningVGG16.h5 \"drive/My Drive/TransferlearningVGG16.h5\""
      ],
      "execution_count": null,
      "outputs": []
    },
    {
      "cell_type": "markdown",
      "metadata": {
        "id": "N2dJEl_Kn_ci"
      },
      "source": [
        "WandB"
      ]
    },
    {
      "cell_type": "code",
      "metadata": {
        "id": "cVJtYHHefCQ8"
      },
      "source": [
        "import os\n",
        "model.save(os.path.join(wandb.run.dir, \"TransferlearningVGG16.h5\"))"
      ],
      "execution_count": null,
      "outputs": []
    },
    {
      "cell_type": "markdown",
      "metadata": {
        "id": "ohxzNMSETE_W"
      },
      "source": [
        "### Schritt 1: Daten einlesen"
      ]
    },
    {
      "cell_type": "code",
      "metadata": {
        "id": "OSqS3ouHMIFc",
        "colab": {
          "base_uri": "https://localhost:8080/",
          "height": 241
        },
        "outputId": "c4f42030-627f-4eee-b707-8f6828f1d585"
      },
      "source": [
        "from PIL import Image\n",
        "imageg  = Image.open(\"drive/My Drive/Colab Notebooks/Udemy Deep Learning/data/PetImages/cat.jpg\")\n",
        "image = imageg.resize((224, 224), Image.LANCZOS)\n",
        "image"
      ],
      "execution_count": null,
      "outputs": [
        {
          "output_type": "execute_result",
          "data": {
            "image/png": "[encoded data removed]",
            "text/plain": [
              "<PIL.Image.Image image mode=RGB size=224x224 at 0x7FF7F414E690>"
            ]
          },
          "metadata": {
            "tags": []
          },
          "execution_count": 21
        }
      ]
    },
    {
      "cell_type": "markdown",
      "metadata": {
        "id": "F9mQDp4jTGpy"
      },
      "source": [
        "### Schritt 2: Daten vorbereiten"
      ]
    },
    {
      "cell_type": "code",
      "metadata": {
        "id": "PDD8OI0GNtkz",
        "colab": {
          "base_uri": "https://localhost:8080/"
        },
        "outputId": "42dcea95-0ebd-49cc-8d75-4735bffa5a92"
      },
      "source": [
        "image = np.asarray(image)\n",
        "print(image.shape)\n",
        "\n",
        "data = image.reshape(1, 224,224,3)\n",
        "print(data.shape)"
      ],
      "execution_count": null,
      "outputs": [
        {
          "output_type": "stream",
          "text": [
            "(224, 224, 3)\n",
            "(1, 224, 224, 3)\n"
          ],
          "name": "stdout"
        }
      ]
    },
    {
      "cell_type": "markdown",
      "metadata": {
        "id": "eZiXiuX9TPGJ"
      },
      "source": [
        "### Schritt 3: VGG16 laden, und `X_after_vgg` berechnen"
      ]
    },
    {
      "cell_type": "code",
      "metadata": {
        "id": "7HWaRQKaRqyo"
      },
      "source": [
        "from keras.applications.vgg16 import VGG16\n",
        "\n",
        "vgg16_model = VGG16(include_top=False, input_shape=(224, 224, 3))\n",
        "X_after_vgg = vgg16_model.predict(data)"
      ],
      "execution_count": null,
      "outputs": []
    },
    {
      "cell_type": "markdown",
      "metadata": {
        "id": "zySQQ19sTRHM"
      },
      "source": [
        "### Schritt 4: Unser Modell laden und die Wahrscheinlichkeit für eine Katze berechnen"
      ]
    },
    {
      "cell_type": "code",
      "metadata": {
        "id": "HR2dyfEQMJbN",
        "colab": {
          "base_uri": "https://localhost:8080/"
        },
        "outputId": "196ccaf0-b018-453d-f942-c70841f5d873"
      },
      "source": [
        "from keras.models import load_model\n",
        "\n",
        "#model = load_model(\"/content/drive/My Drive/Colab Notebooks/Modelle/TransferlearningVGG16.h5\")\n",
        "print(model.predict(X_after_vgg).astype(np.float32))"
      ],
      "execution_count": null,
      "outputs": [
        {
          "output_type": "stream",
          "text": [
            "[[1.]]\n"
          ],
          "name": "stdout"
        }
      ]
    }
  ]
}